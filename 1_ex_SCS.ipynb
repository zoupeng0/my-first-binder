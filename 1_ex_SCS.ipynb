{
 "cells": [
  {
   "cell_type": "code",
   "execution_count": 1,
   "metadata": {},
   "outputs": [],
   "source": [
    "##Work well in Julia 1.4.2\n",
    "import Pkg; Pkg.add(\"Pkg\")\n",
    "\n",
    "Pkg.update()\n",
    "Pkg.add(\"Convex\")\n",
    "\n",
    "Pkg.add(\"SCS\")"
   ]
  },
  {
   "cell_type": "code",
   "execution_count": 1,
   "metadata": {},
   "outputs": [],
   "source": [
    "# Let us first make the Convex.jl module available\n",
    "using Convex, SCS"
   ]
  },
  {
   "cell_type": "code",
   "execution_count": 10,
   "metadata": {},
   "outputs": [
    {
     "data": {
      "text/plain": [
       "4×1 Array{Float64,2}:\n",
       " -1.55277911654585\n",
       " -1.7240789272830357\n",
       " -0.6780641622083505\n",
       "  0.10929029870584496"
      ]
     },
     "execution_count": 10,
     "metadata": {},
     "output_type": "execute_result"
    }
   ],
   "source": [
    "# Generate random problem data\n",
    "m = 4;  n = 5\n",
    "A = randn(m, n); b = randn(m, 1)"
   ]
  },
  {
   "cell_type": "code",
   "execution_count": 11,
   "metadata": {},
   "outputs": [
    {
     "data": {
      "text/plain": [
       "Variable\n",
       "size: (5, 1)\n",
       "sign: real\n",
       "vexity: affine\n",
       "id: 807…091"
      ]
     },
     "execution_count": 11,
     "metadata": {},
     "output_type": "execute_result"
    }
   ],
   "source": [
    "# Create a (column vector) variable of size n x 1.\n",
    "x = Variable(n)"
   ]
  },
  {
   "cell_type": "code",
   "execution_count": 6,
   "metadata": {},
   "outputs": [
    {
     "data": {
      "text/plain": [
       "minimize\n",
       "└─ qol_elem (convex; positive)\n",
       "   ├─ norm2 (convex; positive)\n",
       "   │  └─ + (affine; real)\n",
       "   │     ├─ …\n",
       "   │     └─ …\n",
       "   └─ [1.0]\n",
       "subject to\n",
       "└─ >= constraint (affine)\n",
       "   ├─ 5-element real variable (id: 520…447)\n",
       "   └─ 0\n",
       "\n",
       "status: `solve!` not called yet"
      ]
     },
     "execution_count": 6,
     "metadata": {},
     "output_type": "execute_result"
    }
   ],
   "source": [
    "# The problem is to minimize ||Ax - b||^2 subject to x >= 0\n",
    "# This can be done by: minimize(objective, constraints)\n",
    "problem = minimize(sumsquares(A * x - b), [x >= 0])"
   ]
  },
  {
   "cell_type": "code",
   "execution_count": 7,
   "metadata": {},
   "outputs": [
    {
     "name": "stdout",
     "output_type": "stream",
     "text": [
      "----------------------------------------------------------------------------\n",
      "\tSCS v2.1.1 - Splitting Conic Solver\n",
      "\t(c) Brendan O'Donoghue, Stanford University, 2012\n",
      "----------------------------------------------------------------------------\n",
      "Lin-sys: sparse-indirect, nnz in A = 31, CG tol ~ 1/iter^(2.00)\n",
      "eps = 1.00e-005, alpha = 1.50, max_iters = 5000, normalize = 1, scale = 1.00\n",
      "acceleration_lookback = 10, rho_x = 1.00e-003\n",
      "Variables n = 8, constraints m = 15\n",
      "Cones:\tprimal zero / dual free vars: 1\n",
      "\tlinear vars: 6\n",
      "\tsoc vars: 8, soc blks: 2\n",
      "Setup time: 5.25e-005s\n",
      "----------------------------------------------------------------------------\n",
      " Iter | pri res | dua res | rel gap | pri obj | dua obj | kap/tau | time (s)\n",
      "----------------------------------------------------------------------------\n",
      "     0|1.58e+019 1.14e+019 1.00e+000 -2.89e+019 4.35e+018 3.65e+019 2.92e-005 \n",
      "    40|1.77e-008 4.22e-008 2.07e-009 5.71e-001 5.71e-001 7.93e-017 2.71e-004 \n",
      "----------------------------------------------------------------------------\n",
      "Status: Solved\n",
      "Timing: Solve time: 2.76e-004s\n",
      "\tLin-sys: avg # CG iterations: 2.54, avg solve time: 4.90e-007s\n",
      "\tCones: avg projection time: 6.34e-008s\n",
      "\tAcceleration: avg step time: 4.92e-006s\n",
      "----------------------------------------------------------------------------\n",
      "Error metrics:\n",
      "dist(s, K) = 1.6653e-016, dist(y, K*) = 1.1102e-016, s'y/|s||y| = -5.6119e-017\n",
      "primal res: |Ax + s - b|_2 / (1 + |b|_2) = 1.7731e-008\n",
      "dual res:   |A'y + c|_2 / (1 + |c|_2) = 4.2163e-008\n",
      "rel gap:    |c'x + b'y| / (1 + |c'x| + |b'y|) = 2.0728e-009\n",
      "----------------------------------------------------------------------------\n",
      "c'x = 0.5709, -b'y = 0.5709\n",
      "============================================================================\n"
     ]
    }
   ],
   "source": [
    "# Solve the problem by calling solve!\n",
    "solve!(problem, SCS.Optimizer)"
   ]
  },
  {
   "cell_type": "code",
   "execution_count": 8,
   "metadata": {},
   "outputs": [
    {
     "data": {
      "text/plain": [
       "OPTIMAL::TerminationStatusCode = 1"
      ]
     },
     "execution_count": 8,
     "metadata": {},
     "output_type": "execute_result"
    }
   ],
   "source": [
    "# Check the status of the problem\n",
    "problem.status # :Optimal, :Infeasible, :Unbounded etc."
   ]
  },
  {
   "cell_type": "code",
   "execution_count": 9,
   "metadata": {},
   "outputs": [
    {
     "data": {
      "text/plain": [
       "0.5709455969090936"
      ]
     },
     "execution_count": 9,
     "metadata": {},
     "output_type": "execute_result"
    }
   ],
   "source": [
    "# Get the optimal value\n",
    "problem.optval"
   ]
  },
  {
   "cell_type": "code",
   "execution_count": null,
   "metadata": {},
   "outputs": [],
   "source": []
  }
 ],
 "metadata": {
  "kernelspec": {
   "display_name": "Julia 1.4.2",
   "language": "julia",
   "name": "julia-1.4"
  },
  "language_info": {
   "file_extension": ".jl",
   "mimetype": "application/julia",
   "name": "julia",
   "version": "1.4.2"
  }
 },
 "nbformat": 4,
 "nbformat_minor": 4
}
